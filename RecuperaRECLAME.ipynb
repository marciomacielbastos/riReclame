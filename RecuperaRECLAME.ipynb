{
 "cells": [
  {
   "cell_type": "code",
   "execution_count": 1,
   "metadata": {
    "collapsed": true
   },
   "outputs": [],
   "source": [
    "import os\n",
    "import re\n",
    "import pandas as pd\n",
    "import numpy as np\n",
    "from selenium import webdriver\n",
    "from selenium.common.exceptions import TimeoutException\n",
    "import time\n",
    "import requests\n",
    "import random\n",
    "import sqlite3\n",
    "import string\n",
    "import Image\n",
    "import pytesseract\n",
    "from PIL import Image\n",
    "from datetime import datetime"
   ]
  },
  {
   "cell_type": "code",
   "execution_count": 2,
   "metadata": {
    "collapsed": false
   },
   "outputs": [],
   "source": [
    "class Complaint:\n",
    "    \n",
    "    meses = [u'Janeiro', u'Fevereiro', u'Março', u'Abril', u'Maio', \n",
    "             u'Junho', u'Julho', u'Agosto', u'Setembro', u'Outubro', \n",
    "             u'Novembro', u'Dezembro']\n",
    "\n",
    "    def __init__(self):\n",
    "        self.complaintID = None\n",
    "        self.business = None\n",
    "        self.status = None\n",
    "        self.complaint = None\n",
    "        self.businessURL = None\n",
    "    \n",
    "    def setPlace(self, rawPlace):\n",
    "        self.place = clrPlace(rawPlace)\n",
    "    \n",
    "    def setDate(self, arg):\n",
    "        self.Date = clrDate(rawDate)\n",
    "    \n",
    "    def clrPlace(arg):\n",
    "        arg = arg.split(',')[2].strip()\n",
    "        return arg\n",
    "    \n",
    "    def clrDate(arg):\n",
    "        match = setDate(arg.split(',')[1].strip())\n",
    "        arg = time.strptime(match.group().replace(' ',''), '%d-%m-%Y-%H:%M')\n",
    "        return arg\n",
    "    \n",
    "    def clearDate(arg):\n",
    "        try:\n",
    "            for i in range(12):\n",
    "                arg = arg.replace(meses[i],u'0'+str(i+1))\n",
    "                arg = arg.replace(u'de', '-')\n",
    "                arg = re.search(r'\\d{2} - \\d{2} - \\d{4} - \\d{2}:\\d{2}', txt)\n",
    "            return arg\n",
    "        except:\n",
    "            print 'Is not a String object'\n",
    "    "
   ]
  },
  {
   "cell_type": "code",
   "execution_count": 3,
   "metadata": {
    "collapsed": false
   },
   "outputs": [],
   "source": [
    "class Database:\n",
    "    \n",
    "    def __init__(self, name):\n",
    "        self.db_name = name\n",
    "    \n",
    "    def setUser(self, user):\n",
    "        self.user = user\n",
    "    \n",
    "    def setHost(self, host):\n",
    "        self.host = host\n",
    "        \n",
    "    def setPass(self, password):\n",
    "        self.pswrd = password"
   ]
  },
  {
   "cell_type": "code",
   "execution_count": 4,
   "metadata": {
    "collapsed": false
   },
   "outputs": [],
   "source": [
    "class ConnectionFactory:                                       \n",
    "    def getConnection(self):\n",
    "        try:\n",
    "            self.connection = self.sgbd.connect(self.dbAtrib)\n",
    "            return self.connection\n",
    "        except:\n",
    "            print \"I am unable to connect to the database\"   "
   ]
  },
  {
   "cell_type": "code",
   "execution_count": 5,
   "metadata": {
    "collapsed": true
   },
   "outputs": [],
   "source": [
    "class Sqlite(ConnectionFactory):\n",
    "    def __init__(self, database):\n",
    "        self.db = database\n",
    "        self.sgbd = sqlite3\n",
    "        self.dbAtrib = db.db_name "
   ]
  },
  {
   "cell_type": "code",
   "execution_count": 6,
   "metadata": {
    "collapsed": false
   },
   "outputs": [],
   "source": [
    "class PostgreSql(ConnectionFactory):\n",
    "    def __init__(self, database):\n",
    "        self.db = database\n",
    "        self.sgbd = sqlite3\n",
    "        self.dbAtrib = (\"dbname='\"+self.db_name+\"' user='\"+self.user+\"' host='\"\n",
    "                       +self.localhost+\"' password='\"+self.pswrd+\"'\")"
   ]
  },
  {
   "cell_type": "code",
   "execution_count": 7,
   "metadata": {
    "collapsed": false
   },
   "outputs": [],
   "source": [
    "class Dao:\n",
    "    \n",
    "    def __init__(self,sgbd):\n",
    "        self.connection = sgbd.getConnection()\n",
    "        self.cursor = self.connection.cursor()\n",
    "        self.kindDao = None\n",
    "        self.att = None\n",
    "        self.setAtrib()   \n",
    "      \n",
    "    def setAtrib(self): \n",
    "        pass\n",
    "    \n",
    "    def createTable(self, table = None, att = None):\n",
    "        try:\n",
    "            if table is None or att is None:\n",
    "                table = self.kindDao\n",
    "                att = self.att\n",
    "            self.query(\"CREATE TABLE \"+table+\" \"+att+\";\")\n",
    "            self.commit()\n",
    "        \n",
    "        except:\n",
    "            print \"Could not create the table\"\n",
    "    \n",
    "    def select(self, arg, table = None):\n",
    "        try:\n",
    "            if table is None:\n",
    "                table = self.kindDao\n",
    "            qry= (\"SELECT \"+arg+\" FROM \"+table+\";\")\n",
    "            self.query(qry)\n",
    "            self.commit()\n",
    "            return self.cursor.fetchall()\n",
    "        except:\n",
    "            print \"Select error, verify your arguments\"\n",
    "    \n",
    "    def putQuery(self, query):\n",
    "        try:\n",
    "            self.query(query)\n",
    "            self.commit()\n",
    "            return self.cursor.fetchall()\n",
    "        except:\n",
    "            print \"Select error, verify your arguments\"\n",
    "        \n",
    "    def insert(self, arg):\n",
    "        qry = self.setQry(arg)\n",
    "        self.query(qry)\n",
    "        self.commit()\n",
    "    \n",
    "    def delete(self, atrib, cond, val):\n",
    "        self.query(\"DELETE FROM \"+self.kindDao+\" \"+ \"WHERE \"+atrib+cond+\"'\"+val+\"';\")\n",
    "        self.commit()\n",
    "    \n",
    "    def drop(self):\n",
    "        self.query(\"DROP TABLE \"+self.kindDao+\";\")\n",
    "        self.commit()\n",
    "        \n",
    "    def commit(self):\n",
    "        self.connection.commit()\n",
    "        \n",
    "    def query(self, arg):\n",
    "        self.cursor.execute(arg)\n",
    "        \n",
    "    def setQry(self, arg):\n",
    "        pass\n",
    "    \n",
    "    def getTables(self):\n",
    "        qry= (\"select name from sqlite_master where type = 'table';\")\n",
    "        self.query(qry)\n",
    "        self.commit()\n",
    "        return self.cursor.fetchall()"
   ]
  },
  {
   "cell_type": "code",
   "execution_count": 27,
   "metadata": {
    "collapsed": false
   },
   "outputs": [],
   "source": [
    "class RankDao(Dao):\n",
    "    def setAtrib(self):\n",
    "        self.kindDao = \"rank\"\n",
    "        self.att = \"(rank_id integer,business text, url text)\" \n",
    "    def setQry(self, arg):\n",
    "        return \"INSERT INTO \"+self.kindDao+\" VALUES (\"+str(arg.complaintID)+\", '\"+arg.business+\"', '\"+arg.businessURL+\"');\""
   ]
  },
  {
   "cell_type": "code",
   "execution_count": 28,
   "metadata": {
    "collapsed": false
   },
   "outputs": [],
   "source": [
    "class AddressDao(Dao):\n",
    "    def setAtrib(self):\n",
    "        self.kindDao = \"address\"\n",
    "        self.att = \"(add_id integer, business text, status text, url text, place text, date time)\"\n",
    "    \n",
    "    def setQry(self, arg):\n",
    "        return (\"INSERT INTO \"+self.kindDao+\" VALUES (\"+str(arg.complaintID)+\", '\"+arg.business+\"', '\"\n",
    "                           +arg.status+\"', '\"+arg.businessURL+'\", \"'+arg.place+'\", \"'+arg.date+\"');\")"
   ]
  },
  {
   "cell_type": "code",
   "execution_count": 29,
   "metadata": {
    "collapsed": false
   },
   "outputs": [],
   "source": [
    "class complaintDao(Dao):\n",
    "    def setAtrib(self):\n",
    "        self.kindDao = \"complaint\"\n",
    "        self.att = \"(compl_id integet, business text, status text, url text, place text, date text, complaint text)\"\n",
    "    \n",
    "    def setQry(self, arg):\n",
    "        return (\"INSERT INTO \"+self.kindDao+\" VALUES (\"+str(arg.complaintID)+\", '\"+arg.business+\"', '\"\n",
    "                +arg.status+\"', '\"+arg.businessURL+\"', '\"+arg.place+\"', '\"+arg.date+\"', '\"+arg.complaint+\"');\")"
   ]
  },
  {
   "cell_type": "code",
   "execution_count": 11,
   "metadata": {
    "collapsed": false
   },
   "outputs": [],
   "source": [
    "class WdChain:\n",
    "    \n",
    "    def __init__(self,driver):\n",
    "        self.driver = driver\n",
    "        self.nextWd = None\n",
    "        self.income = None\n",
    "        self.complaint = Complaint()\n",
    "        \n",
    "    def setNext(self, link):\n",
    "        if self.nextWd == None:\n",
    "            self.nextWd = link;\n",
    "        else: \n",
    "            self.nextWd.setNext(forma);    \n",
    "    \n",
    "    def scrap(self, arg):\n",
    "        self.income = WebScrap(arg)\n",
    "        if income is \"error\":\n",
    "            if self.nextWd is None:\n",
    "                return \"None WebScrapper implemented for this HTML\"\n",
    "            else:\n",
    "                self.nextWd.scrap(arg)\n",
    "                \n",
    "    def WebScrap(self, dao):\n",
    "        pass"
   ]
  },
  {
   "cell_type": "code",
   "execution_count": 12,
   "metadata": {
    "collapsed": false
   },
   "outputs": [],
   "source": [
    "class ScrapRank(WdChain):\n",
    "    \n",
    "    def WebScrap(self, dao):\n",
    "        try: \n",
    "            if dao.kindDao is not \"rank\":\n",
    "                raise ValueError('error')\n",
    "            for i in range(20):\n",
    "                self.complaint.complaint = i\n",
    "                self.complaint.business = self.driver.find_element_by_xpath('//*[@id=\"tabela-ranking\"]/tbody/tr[14]/'\n",
    "                            'td/div/table['+str(i+1)+']/tbody/tr/td/a').get_attribute(\"title\")\n",
    "                self.complaint.businessURL = self.driver.find_element_by_xpath('//*[@id=\"tabela-ranking\"]/tbody/tr[14]/td/'\n",
    "                            'div/table['+str(i+1)+']/tbody/tr/td/a').get_attribute(\"href\")\n",
    "                dao.insert(complaint)\n",
    "        except:\n",
    "            self.setLog()\n",
    "            return \"error\""
   ]
  },
  {
   "cell_type": "markdown",
   "metadata": {
    "collapsed": false
   },
   "source": [
    "# FIX THIS MESS SOON AS POSSIBLE\n",
    "class ScrapAddress(WdChain):\n",
    "    def WebScrap(self, dao):\n",
    "        try:\n",
    "            #I do not know why I can't put the MAX clause on the HAVING condition\n",
    "            last_business_id = getLast_id()\n",
    "            \n",
    "            \n",
    "            last_business = dao.putQuery(\"SELECT business FROM adress WHERE \"+last_business+\";\")[0][0]\n",
    "        except:\n",
    "            return \"error\"\n",
    "        \n",
    "    def firstLevelScrap():\n",
    "    try:\n",
    "        \n",
    "        for i in range(ranking['href'].size):\n",
    "                    self.complaint.complaint = i\n",
    "                    driver.get(ranking['href'][i])\n",
    "                    time.sleep(5)\n",
    "                    #Take and get the url \"todas as reclamações\"\n",
    "                    key = driver.find_element_by_xpath('//*[@id=\"reclamacoes-empresa\"]/div/div[2]/div/div/ul/li/a').get_attribute(\"href\")\n",
    "                    driver.get(key)\n",
    "                    subtable = secondLevelScrap(i)\n",
    "                    #section to concatenate business\n",
    "                    pieces=[table,subtable]\n",
    "                    table=pd.concat(pieces, ignore_index=True)\n",
    "        return table\n",
    "    except:\n",
    "        print \"An exception screw everything on first level, returning whatever you got\"\n",
    "        return table"
   ]
  },
  {
   "cell_type": "code",
   "execution_count": 92,
   "metadata": {
    "collapsed": false
   },
   "outputs": [],
   "source": [
    "class ReclameScrap:\n",
    "    \n",
    "    def __init__(self):\n",
    "        \n",
    "        db = Database('reclameAqui_db.db')\n",
    "        sqlite = Sqlite(db)\n",
    "        self.dao = Dao(sqlite)\n",
    "        self.tables = self.dao.getTables()\n",
    "        if (u'log',) not in self.tables:\n",
    "            self.dao.createTable(\"log\",\"(log_id integer, time time, tableName text, business text, quant integer,lastIn_ID)\")\n",
    "        else:\n",
    "            self.cleanTable()\n",
    "    \n",
    "    def execute(self):\n",
    "        \n",
    "        if (u'complaint',) in self.tables:\n",
    "            dao = ComplaintDao(sqlite)\n",
    "            scrap = ScrapComplaint(dao)\n",
    "        elif (u'address',) in self.tables:\n",
    "            dao = AddressDao(sqlite)\n",
    "            scrap = ScrapAddress(dao)\n",
    "        else:\n",
    "            dao = RankDao(sqlite)\n",
    "            dao.createTable()\n",
    "            scrap = ScrapRank(dao)\n",
    "    \n",
    "    def cleanTable(self):\n",
    "        #I do not know why I can't put the MAX clause on the HAVING condition\n",
    "        log_id = self.dao.putQuery(\"SELECT MAX(rank_id) FROM log;\")[0][0]\n",
    "        log_id = str(log_id)   \n",
    "        logVal = self.dao.putQuery(\"SELECT tabela, business business FROM log\"\n",
    "                                    \" GROUP BY log_id HAVING log_id = \"+log_id+\";\")\n",
    "        if logVal[0][0] is \"address\":\n",
    "            self.dao.putQuery(\"DELETE FROM address WHERE business = \"+logVal[0][1]+\";\")\n",
    "        "
   ]
  },
  {
   "cell_type": "code",
   "execution_count": null,
   "metadata": {
    "collapsed": true
   },
   "outputs": [],
   "source": []
  },
  {
   "cell_type": "code",
   "execution_count": 30,
   "metadata": {
    "collapsed": false
   },
   "outputs": [],
   "source": [
    "db = Database('teste.db')\n",
    "sql = Sqlite(db)\n",
    "dao = Dao(sql)"
   ]
  },
  {
   "cell_type": "code",
   "execution_count": 34,
   "metadata": {
    "collapsed": false
   },
   "outputs": [
    {
     "data": {
      "text/plain": [
       "[(u'rank',)]"
      ]
     },
     "execution_count": 34,
     "metadata": {},
     "output_type": "execute_result"
    }
   ],
   "source": [
    "dao.getTables()"
   ]
  },
  {
   "cell_type": "code",
   "execution_count": 32,
   "metadata": {
    "collapsed": false
   },
   "outputs": [],
   "source": [
    "dao = RankDao(sql)\n",
    "dao.createTable()"
   ]
  },
  {
   "cell_type": "code",
   "execution_count": 37,
   "metadata": {
    "collapsed": false
   },
   "outputs": [],
   "source": [
    "comp = Complaint()\n",
    "comp.complaintID = 1\n",
    "comp.business = 'sapdafa'\n",
    "comp.businessURL = 'www.showe'\n",
    "dao.insert(comp)"
   ]
  },
  {
   "cell_type": "code",
   "execution_count": 35,
   "metadata": {
    "collapsed": false
   },
   "outputs": [
    {
     "ename": "TypeError",
     "evalue": "delete() takes exactly 4 arguments (3 given)",
     "output_type": "error",
     "traceback": [
      "\u001b[1;31m---------------------------------------------------------------------------\u001b[0m",
      "\u001b[1;31mTypeError\u001b[0m                                 Traceback (most recent call last)",
      "\u001b[1;32m<ipython-input-35-f37bb9492b2e>\u001b[0m in \u001b[0;36m<module>\u001b[1;34m()\u001b[0m\n\u001b[1;32m----> 1\u001b[1;33m \u001b[0mdao\u001b[0m\u001b[1;33m.\u001b[0m\u001b[0mdelete\u001b[0m\u001b[1;33m(\u001b[0m\u001b[1;34m\"rank_id\"\u001b[0m\u001b[1;33m,\u001b[0m\u001b[1;34m\"HAVING complaintID = 1\"\u001b[0m \u001b[1;33m)\u001b[0m\u001b[1;33m\u001b[0m\u001b[0m\n\u001b[0m",
      "\u001b[1;31mTypeError\u001b[0m: delete() takes exactly 4 arguments (3 given)"
     ]
    }
   ],
   "source": [
    "dao.delete(\"rank_id\",\"HAVING complaintID = 1\" )"
   ]
  },
  {
   "cell_type": "code",
   "execution_count": 78,
   "metadata": {
    "collapsed": false
   },
   "outputs": [],
   "source": [
    "a = dao.putQuery(\"SELECT MAX(rank_id) FROM rank;\")[0][0]\n",
    "a = str(a)"
   ]
  },
  {
   "cell_type": "code",
   "execution_count": 79,
   "metadata": {
    "collapsed": false
   },
   "outputs": [
    {
     "data": {
      "text/plain": [
       "[(u'sapa',)]"
      ]
     },
     "execution_count": 79,
     "metadata": {},
     "output_type": "execute_result"
    }
   ],
   "source": [
    "a = dao.putQuery(\"SELECT business FROM rank\"\n",
    "                \" GROUP BY rank_id HAVING rank_id =\"+a+\";\")\n",
    "a"
   ]
  },
  {
   "cell_type": "code",
   "execution_count": 625,
   "metadata": {
    "collapsed": true
   },
   "outputs": [],
   "source": [
    "dao.drop()"
   ]
  },
  {
   "cell_type": "code",
   "execution_count": 556,
   "metadata": {
    "collapsed": false
   },
   "outputs": [],
   "source": [
    "cond = \"o macaco = bola\""
   ]
  },
  {
   "cell_type": "code",
   "execution_count": 557,
   "metadata": {
    "collapsed": false
   },
   "outputs": [
    {
     "name": "stdout",
     "output_type": "stream",
     "text": [
      "GROUP BY o o macaco = bola\n"
     ]
    }
   ],
   "source": [
    "terms = cond.split()\n",
    "cond = \"GROUP BY \"+terms[0]+\" \"+cond\n",
    "print cond"
   ]
  },
  {
   "cell_type": "code",
   "execution_count": 550,
   "metadata": {
    "collapsed": false
   },
   "outputs": [
    {
     "data": {
      "text/plain": [
       "'bolaNone'"
      ]
     },
     "execution_count": 550,
     "metadata": {},
     "output_type": "execute_result"
    }
   ],
   "source": [
    "\"bola\"+str(None)"
   ]
  },
  {
   "cell_type": "code",
   "execution_count": null,
   "metadata": {
    "collapsed": true
   },
   "outputs": [],
   "source": []
  }
 ],
 "metadata": {
  "kernelspec": {
   "display_name": "Python 2",
   "language": "python",
   "name": "python2"
  },
  "language_info": {
   "codemirror_mode": {
    "name": "ipython",
    "version": 2
   },
   "file_extension": ".py",
   "mimetype": "text/x-python",
   "name": "python",
   "nbconvert_exporter": "python",
   "pygments_lexer": "ipython2",
   "version": "2.7.6"
  }
 },
 "nbformat": 4,
 "nbformat_minor": 0
}
