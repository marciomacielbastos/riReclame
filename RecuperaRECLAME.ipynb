{
 "cells": [
  {
   "cell_type": "code",
   "execution_count": 74,
   "metadata": {
    "collapsed": true
   },
   "outputs": [],
   "source": [
    "import os\n",
    "import re\n",
    "import pandas as pd\n",
    "import numpy as np\n",
    "from selenium import webdriver\n",
    "from selenium.common.exceptions import TimeoutException\n",
    "import time\n",
    "import requests\n",
    "import random\n",
    "import sqlite3\n",
    "import string\n",
    "import Image\n",
    "import pytesseract\n",
    "from PIL import Image\n",
    "from datetime import datetime"
   ]
  },
  {
   "cell_type": "code",
   "execution_count": 75,
   "metadata": {
    "collapsed": true
   },
   "outputs": [],
   "source": [
    "class Complaint:\n",
    "    \n",
    "    meses = [u'Janeiro', u'Fevereiro', u'Março', u'Abril', u'Maio', \n",
    "             u'Junho', u'Julho', u'Agosto', u'Setembro', u'Outubro', \n",
    "             u'Novembro', u'Dezembro']\n",
    "\n",
    "    def __init__(self):\n",
    "        self.complaintID = None\n",
    "        self.business = None\n",
    "        self.status = None\n",
    "        self.complaint = None\n",
    "        self.businessURL = None\n",
    "    \n",
    "    def setPlace(self, rawPlace):\n",
    "        self.place = clrPlace(rawPlace)\n",
    "    \n",
    "    def setDate(self, arg):\n",
    "        self.Date = clrDate(rawDate)\n",
    "    \n",
    "    def clrPlace(arg):\n",
    "        arg = arg.split(',')[2].strip()\n",
    "        return arg\n",
    "    \n",
    "    def clrDate(arg):\n",
    "        match = setDate(arg.split(',')[1].strip())\n",
    "        arg = time.strptime(match.group().replace(' ',''), '%d-%m-%Y-%H:%M')\n",
    "        return arg\n",
    "    \n",
    "    def clearDate(arg):\n",
    "        try:\n",
    "            for i in range(12):\n",
    "                arg = arg.replace(meses[i],u'0'+str(i+1))\n",
    "                arg = arg.replace(u'de', '-')\n",
    "                arg = re.search(r'\\d{2} - \\d{2} - \\d{4} - \\d{2}:\\d{2}', txt)\n",
    "            return arg\n",
    "        except:\n",
    "            print 'Is not a String object'"
   ]
  },
  {
   "cell_type": "code",
   "execution_count": 76,
   "metadata": {
    "collapsed": true
   },
   "outputs": [],
   "source": [
    "class Database:\n",
    "    \n",
    "    def __init__(self, name):\n",
    "        self.db_name = name\n",
    "    \n",
    "    def setUser(self, user):\n",
    "        self.user = user\n",
    "    \n",
    "    def setHost(self, host):\n",
    "        self.host = host\n",
    "        \n",
    "    def setPass(self, password):\n",
    "        self.pswrd = password"
   ]
  },
  {
   "cell_type": "code",
   "execution_count": 77,
   "metadata": {
    "collapsed": true
   },
   "outputs": [],
   "source": [
    "class ConnectionFactory:                                       \n",
    "    def getConnection(self):\n",
    "        try:\n",
    "            self.connection = self.sgbd.connect(self.dbAtrib)\n",
    "            return self.connection\n",
    "        except:\n",
    "            print \"I am unable to connect to the database\""
   ]
  },
  {
   "cell_type": "code",
   "execution_count": 78,
   "metadata": {
    "collapsed": true
   },
   "outputs": [],
   "source": [
    "class Sqlite(ConnectionFactory):\n",
    "    def __init__(self, database):\n",
    "        self.db = database\n",
    "        self.sgbd = sqlite3\n",
    "        self.dbAtrib = db.db_name"
   ]
  },
  {
   "cell_type": "code",
   "execution_count": 79,
   "metadata": {
    "collapsed": true
   },
   "outputs": [],
   "source": [
    "class PostgreSql(ConnectionFactory):\n",
    "    def __init__(self, database):\n",
    "        self.db = database\n",
    "        self.sgbd = sqlite3\n",
    "        self.dbAtrib = (\"dbname='\"+self.db_name+\"' user='\"+self.user+\"' host='\"\n",
    "                       +self.localhost+\"' password='\"+self.pswrd+\"'\")"
   ]
  },
  {
   "cell_type": "code",
   "execution_count": 138,
   "metadata": {
    "collapsed": true
   },
   "outputs": [],
   "source": [
    "class Dao:\n",
    "    \n",
    "    def __init__(self,sgbd):\n",
    "        self.connection = sgbd.getConnection()\n",
    "        self.cursor = self.connection.cursor()\n",
    "        self.kindDao = None\n",
    "        self.att = None\n",
    "        self.setAtrib()   \n",
    "      \n",
    "    def setAtrib(self): \n",
    "        pass\n",
    "    \n",
    "    def createTable(self, table = None, att = None):\n",
    "        try:\n",
    "            if table is None or att is None:\n",
    "                table = self.kindDao\n",
    "                att = self.att\n",
    "            self.query(\"CREATE TABLE \"+table+\" \"+att+\";\")\n",
    "            self.commit()\n",
    "        \n",
    "        except:\n",
    "            print \"Could not create the table\"\n",
    "    \n",
    "    def select(self, arg, table = None):\n",
    "        try:\n",
    "            if table is None:\n",
    "                table = self.kindDao\n",
    "            qry= (\"SELECT \"+arg+\" FROM \"+table+\";\")\n",
    "            self.query(qry)\n",
    "            self.commit()\n",
    "            return self.cursor.fetchall()\n",
    "        except:\n",
    "            print \"Select error, verify your arguments\"\n",
    "    \n",
    "    def putQuery(self, query):\n",
    "        try:\n",
    "            self.query(query)\n",
    "            self.commit()\n",
    "            return self.cursor.fetchall()\n",
    "        except:\n",
    "            print \"Select error, verify your arguments\"\n",
    "        \n",
    "    def insert(self, arg):\n",
    "        qry = self.setQry(arg)\n",
    "        self.query(qry)\n",
    "        self.commit()\n",
    "    \n",
    "    def delete(self, atrib, cond, val):\n",
    "        self.query(\"DELETE FROM \"+self.kindDao+\" \"+ \"WHERE \"+atrib+cond+\"'\"+val+\"';\")\n",
    "        self.commit()\n",
    "    \n",
    "    def drop(self):\n",
    "        self.query(\"DROP TABLE \"+self.kindDao+\";\")\n",
    "        self.commit()\n",
    "        \n",
    "    def commit(self):\n",
    "        self.connection.commit()\n",
    "        \n",
    "    def query(self, arg):\n",
    "        self.cursor.execute(arg)\n",
    "        \n",
    "    def setQry(self, arg):\n",
    "        pass\n",
    "    \n",
    "    def getTables(self):\n",
    "        qry= (\"select name from sqlite_master where type = 'table';\")\n",
    "        self.query(qry)\n",
    "        self.commit()\n",
    "        return self.cursor.fetchall()"
   ]
  },
  {
   "cell_type": "code",
   "execution_count": 139,
   "metadata": {
    "collapsed": true
   },
   "outputs": [],
   "source": [
    "class RankDao(Dao):\n",
    "    def setAtrib(self):\n",
    "        self.kindDao = \"rank\"\n",
    "        self.att = \"(rank_ID INTEGER PRIMARY KEY AUTOINCREMENT,business TEXT, url TEXT)\" \n",
    "    def setQry(self, arg):\n",
    "        return \"INSERT INTO \"+self.kindDao+\" (business, url) VALUES ('\"+arg.business+\"', '\"+arg.businessURL+\"');\""
   ]
  },
  {
   "cell_type": "code",
   "execution_count": 140,
   "metadata": {
    "collapsed": true
   },
   "outputs": [],
   "source": [
    "class AddressDao(Dao):\n",
    "    def setAtrib(self):\n",
    "        self.kindDao = \"address\"\n",
    "        self.att = (\"(add_ID INTEGER PRIMARY KEY AUTOINCREMENT, business TEXT,\"\n",
    "                    \"status TEXT, url TEXT, place TEXT, date TIME)\")\n",
    "    \n",
    "    def setQry(self, arg):\n",
    "        return (\"INSERT INTO \"+self.kindDao+\" (business,\"\n",
    "                    \"status, url, place, date TIME) VALUES ('\"+arg.business+\"', '\"\n",
    "                           +arg.status+\"', '\"+arg.businessURL+'\", \"'+arg.place+'\", \"'+arg.date+\"');\")"
   ]
  },
  {
   "cell_type": "code",
   "execution_count": 141,
   "metadata": {
    "collapsed": true
   },
   "outputs": [],
   "source": [
    "class complaintDao(Dao):\n",
    "    def setAtrib(self):\n",
    "        self.kindDao = \"complaint\"\n",
    "        self.att = (\"(compl_ID INTEGER PRIMARY KEY AUTOINCREMENT, business TEXT, status TEXT\"\n",
    "        \", url TEXT, place TEXT, date TEXT, complaint TEXT)\")\n",
    "    \n",
    "    def setQry(self, arg):\n",
    "        return (\"INSERT INTO \"+self.kindDao+\" (business, status\"\n",
    "        \", url, place, date, complaint) VALUES ('\"+arg.business+\"', '\"\n",
    "                +arg.status+\"', '\"+arg.businessURL+\"', '\"+arg.place+\"', '\"+arg.date+\"', '\"+arg.complaint+\"');\")"
   ]
  },
  {
   "cell_type": "code",
   "execution_count": 84,
   "metadata": {
    "collapsed": true
   },
   "outputs": [],
   "source": [
    "class WdChain:\n",
    "    \n",
    "    def __init__(self,webdriver,dao):\n",
    "        self.wd = webdriver\n",
    "        self.driver = webdriver.Firefox()\n",
    "        self.dao = dao\n",
    "        self.nextWd = None\n",
    "        self.income = None\n",
    "        self.complaint = Complaint()\n",
    "        \n",
    "    def setNext(self, link):\n",
    "        if self.nextWd == None:\n",
    "            self.nextWd = link;\n",
    "        else: \n",
    "            self.nextWd.setNext(forma);    \n",
    "    \n",
    "    def scrap(self, arg):\n",
    "        self.income = WebScrap(arg)\n",
    "        if income is \"error\":\n",
    "            if self.nextWd is None:\n",
    "                return \"None WebScrapper implemented for this HTML\"\n",
    "            else:\n",
    "                self.nextWd.scrap(arg)\n",
    "                \n",
    "    def WebScrap(self):\n",
    "        pass"
   ]
  },
  {
   "cell_type": "code",
   "execution_count": 85,
   "metadata": {
    "collapsed": true
   },
   "outputs": [],
   "source": [
    "class ScrapRank(WdChain):\n",
    "    \n",
    "    def WebScrap(self):\n",
    "        try: \n",
    "            if self.dao.kindDao is not \"rank\":\n",
    "                raise ValueError('erro')\n",
    "            for i in range(20):\n",
    "                self.complaint.business = self.driver.find_element_by_xpath('//*[@id=\"tabela-ranking\"]/tbody/tr[14]/'\n",
    "                            'td/div/table['+str(i+1)+']/tbody/tr/td/a').get_attribute(\"title\")\n",
    "                self.complaint.businessURL = self.driver.find_element_by_xpath('//*[@id=\"tabela-ranking\"]/tbody/tr[14]/td/'\n",
    "                            'div/table['+str(i+1)+']/tbody/tr/td/a').get_attribute(\"href\")\n",
    "                self.dao.insert(self.complaint)\n",
    "            raise ValueError('error')\n",
    "        except:\n",
    "            self.setLog()\n",
    "            return \"error\""
   ]
  },
  {
   "cell_type": "code",
   "execution_count": 86,
   "metadata": {
    "collapsed": false
   },
   "outputs": [],
   "source": [
    "# FIX THIS MESS AS SOON AS POSSIBLE\n",
    "class ScrapAddress(WdChain):\n",
    "    def WebScrap(self):\n",
    "        try:\n",
    "            #I do not know why I can't put the MAX clause on the HAVING condition\n",
    "            last_rank_id = lastLog_id()\n",
    "            last_business = self.dao.putQuery(\"SELECT business, url FROM rank WHERE rank_id > \"+last_rank_id+\";\")\n",
    "            firstLevelScrap(self.last_business)\n",
    "        except:\n",
    "            return \"error\"\n",
    "        \n",
    "    def firstLevelScrap(self, last_business):\n",
    "        try:\n",
    "            for busUrl in last_business:\n",
    "                        self.driver.get(busUrl[1])\n",
    "                        #time.sleep(5)\n",
    "                        key = driver.find_element_by_xpath('//*[@id=\"reclamacoes-empresa\"'\n",
    "                                                           ']/div/div[2]/div/div/ul/li/a').get_attribute(\"href\")\n",
    "                        self.driver.get(key)\n",
    "                        secondLevelScrap(self,busUrl[0])\n",
    "                        \n",
    "        except:\n",
    "            return \"error\"\n",
    "        \n",
    "    def secondLevelScrap(self, business):    \n",
    "        try:\n",
    "            count = 0\n",
    "            while count<=40000:\n",
    "                self.complaint.businessID = 0\n",
    "                addChain = WdChain()\n",
    "                nextPage = driver.find_element_by_xpath('//*[@id=\"todo-conteudo-resultado\"]/div/div/center/div/ul/li[7]/a').get_attribute(\"href\")\n",
    "                selfdriver.get(nextPage)\n",
    "                cout+=1\n",
    "        except:\n",
    "            raise ValueError('error')"
   ]
  },
  {
   "cell_type": "code",
   "execution_count": 87,
   "metadata": {
    "collapsed": true
   },
   "outputs": [],
   "source": [
    "class ScrapAddrss(WdChain):\n",
    "    def WebScrap(self):\n",
    "        try:\n",
    "            for j in range(20):\n",
    "                self.complaint.business = business\n",
    "                self.complaint.businessURL  =  link = driver.find_element_by_xpath('//*[@id=\"reclamacoes-empresa\"'\n",
    "                    ']/div/div[2]/div/div[2]/ul/li[' + str(j+1) +']/h3/a').get_attribute(\"href\") \n",
    "                self.dao.insert(self.complaint)\n",
    "        except:\n",
    "            return \"error\"\n",
    "        \n",
    "                "
   ]
  },
  {
   "cell_type": "code",
   "execution_count": 88,
   "metadata": {
    "collapsed": false
   },
   "outputs": [],
   "source": [
    "class BreakCaptchaLinux(WdChain):\n",
    "    def WebScrap(self):\n",
    "        try:\n",
    "            oldtab = self.wd.current_window_handle\n",
    "            body = self.wd.find_element_by_tag_name(\"body\")\n",
    "            body.send_keys(Keys.CONTROL + 't')\n",
    "            self.wd.get('http://www.reclameaqui.com.br/indices/lista_reclamacoes/captcha.php')\n",
    "            #You have to create the folder /captcha\n",
    "            self.wd.save_screenshot(\"../RI/captcha/screenshot.png\")\n",
    "            self.wd.find_element_by_tag_name(\"body\").send_keys(Keys.ALT + Keys.NUMPAD1)\n",
    "            self.wd.switch_to_window(oldtab)\n",
    "            captcha = pytesseract.image_to_string(Image.open('../RI/captcha/screenshot.png'), config=\"-psm 6\")\n",
    "            cp = self.driver.find_element_by_name('captcha')\n",
    "            cp.send_keys(captcha)\n",
    "            self.wd.find_element_by_xpath('//*[@id=\"reclamacoes-empresa\"]/div/div[2]/div/div[2]/ul/div/div/form/input[2]').click()\n",
    "        except:\n",
    "            return \"error\""
   ]
  },
  {
   "cell_type": "code",
   "execution_count": 89,
   "metadata": {
    "collapsed": true
   },
   "outputs": [],
   "source": [
    "class Refresh():\n",
    "    def WebScrap(self):\n",
    "        try:\n",
    "            body = self.wd.find_element_by_tag_name(\"body\")\n",
    "            body.send_keys(Keys.ALT + Keys.ARROW_LEFT)\n",
    "            nextPage = driver.find_element_by_xpath('//*[@id=\"todo-conteudo-resultado\"]/div/div/center/div/ul/li[7]/a').get_attribute(\"href\")\n",
    "            self.driver.get(nextPage)\n",
    "        except:\n",
    "            return \"error\""
   ]
  },
  {
   "cell_type": "code",
   "execution_count": 90,
   "metadata": {
    "collapsed": true
   },
   "outputs": [],
   "source": [
    "class ReclameScrap:\n",
    "    \n",
    "    def __init__(self):\n",
    "        \n",
    "        db = Database('reclameAqui_db.db')\n",
    "        sqlite = Sqlite(db)\n",
    "        self.dao = Dao(sqlite)\n",
    "        self.tables = self.dao.getTables()\n",
    "        if (u'log',) not in self.tables:\n",
    "            self.dao.createTable(\"log\",\"(log_ID INTEGER PRIMARY KEY AUTOINCREMENT, time TIME, tableName TEXT,\"\n",
    "                                 \"business TEXT, quant INTEGER,lastIn_ID)\")\n",
    "        else:\n",
    "            self.cleanTable()\n",
    "    \n",
    "    def execute(self):\n",
    "        \n",
    "        if (u'complaint',) in self.tables:\n",
    "            dao = ComplaintDao(sqlite)\n",
    "            scrap = ScrapComplaint(dao)\n",
    "        elif (u'address',) in self.tables:\n",
    "            dao = AddressDao(sqlite)\n",
    "            scrap = ScrapAddress(dao)\n",
    "        else:\n",
    "            dao = RankDao(sqlite)\n",
    "            dao.createTable()\n",
    "            scrap = ScrapRank(dao)\n",
    "    \n",
    "    def cleanTable(self):\n",
    "        #I do not know why I can't put the MAX clause on the HAVING condition\n",
    "        log_id = self.dao.putQuery(\"SELECT MAX(rank_id) FROM log;\")[0][0]\n",
    "        log_id = str(log_id)   \n",
    "        logVal = self.dao.putQuery(\"SELECT tabela, business business FROM log\"\n",
    "                                    \" GROUP BY log_id HAVING log_id = \"+log_id+\";\")\n",
    "        if logVal[0][0] is \"address\":\n",
    "            self.dao.putQuery(\"DELETE FROM address WHERE business = \"+logVal[0][1]+\";\")"
   ]
  },
  {
   "cell_type": "code",
   "execution_count": 155,
   "metadata": {
    "collapsed": true
   },
   "outputs": [],
   "source": [
    "db = Database('teste.db')\n",
    "sql = Sqlite(db)\n",
    "dao = Dao(sql)"
   ]
  },
  {
   "cell_type": "code",
   "execution_count": 156,
   "metadata": {
    "collapsed": false
   },
   "outputs": [
    {
     "data": {
      "text/plain": [
       "[(u'sqlite_sequence',)]"
      ]
     },
     "execution_count": 156,
     "metadata": {},
     "output_type": "execute_result"
    }
   ],
   "source": [
    "dao.getTables()"
   ]
  },
  {
   "cell_type": "code",
   "execution_count": 157,
   "metadata": {
    "collapsed": false
   },
   "outputs": [],
   "source": [
    "dao = RankDao(sql)\n",
    "dao.createTable()"
   ]
  },
  {
   "cell_type": "code",
   "execution_count": 168,
   "metadata": {
    "collapsed": false
   },
   "outputs": [],
   "source": [
    "comp = Complaint()\n",
    "comp.business = 'teste2'\n",
    "comp.businessURL = 'www.showe'\n",
    "dao.insert(comp)"
   ]
  },
  {
   "cell_type": "code",
   "execution_count": 169,
   "metadata": {
    "collapsed": false
   },
   "outputs": [],
   "source": [
    "a = dao.putQuery(\"SELECT MAX(rank_id) FROM rank;\")[0][0]\n",
    "a = str(a)"
   ]
  },
  {
   "cell_type": "code",
   "execution_count": 171,
   "metadata": {
    "collapsed": false
   },
   "outputs": [
    {
     "name": "stdout",
     "output_type": "stream",
     "text": [
      "(1,)\n"
     ]
    }
   ],
   "source": [
    "a = dao.putQuery(\"SELECT rank_id FROM rank\"\n",
    "                \" GROUP BY rank_id HAVING rank_id <2;\")\n",
    "for i in a:\n",
    "    print i\n",
    "    "
   ]
  },
  {
   "cell_type": "code",
   "execution_count": 154,
   "metadata": {
    "collapsed": false
   },
   "outputs": [
    {
     "ename": "OperationalError",
     "evalue": "no such table: rank",
     "output_type": "error",
     "traceback": [
      "\u001b[1;31m---------------------------------------------------------------------------\u001b[0m",
      "\u001b[1;31mOperationalError\u001b[0m                          Traceback (most recent call last)",
      "\u001b[1;32m<ipython-input-154-31c978f296d1>\u001b[0m in \u001b[0;36m<module>\u001b[1;34m()\u001b[0m\n\u001b[1;32m----> 1\u001b[1;33m \u001b[0mdao\u001b[0m\u001b[1;33m.\u001b[0m\u001b[0mdrop\u001b[0m\u001b[1;33m(\u001b[0m\u001b[1;33m)\u001b[0m\u001b[1;33m\u001b[0m\u001b[0m\n\u001b[0m",
      "\u001b[1;32m<ipython-input-138-ba643f33ca36>\u001b[0m in \u001b[0;36mdrop\u001b[1;34m(self)\u001b[0m\n\u001b[0;32m     51\u001b[0m \u001b[1;33m\u001b[0m\u001b[0m\n\u001b[0;32m     52\u001b[0m     \u001b[1;32mdef\u001b[0m \u001b[0mdrop\u001b[0m\u001b[1;33m(\u001b[0m\u001b[0mself\u001b[0m\u001b[1;33m)\u001b[0m\u001b[1;33m:\u001b[0m\u001b[1;33m\u001b[0m\u001b[0m\n\u001b[1;32m---> 53\u001b[1;33m         \u001b[0mself\u001b[0m\u001b[1;33m.\u001b[0m\u001b[0mquery\u001b[0m\u001b[1;33m(\u001b[0m\u001b[1;34m\"DROP TABLE \"\u001b[0m\u001b[1;33m+\u001b[0m\u001b[0mself\u001b[0m\u001b[1;33m.\u001b[0m\u001b[0mkindDao\u001b[0m\u001b[1;33m+\u001b[0m\u001b[1;34m\";\"\u001b[0m\u001b[1;33m)\u001b[0m\u001b[1;33m\u001b[0m\u001b[0m\n\u001b[0m\u001b[0;32m     54\u001b[0m         \u001b[0mself\u001b[0m\u001b[1;33m.\u001b[0m\u001b[0mcommit\u001b[0m\u001b[1;33m(\u001b[0m\u001b[1;33m)\u001b[0m\u001b[1;33m\u001b[0m\u001b[0m\n\u001b[0;32m     55\u001b[0m \u001b[1;33m\u001b[0m\u001b[0m\n",
      "\u001b[1;32m<ipython-input-138-ba643f33ca36>\u001b[0m in \u001b[0;36mquery\u001b[1;34m(self, arg)\u001b[0m\n\u001b[0;32m     58\u001b[0m \u001b[1;33m\u001b[0m\u001b[0m\n\u001b[0;32m     59\u001b[0m     \u001b[1;32mdef\u001b[0m \u001b[0mquery\u001b[0m\u001b[1;33m(\u001b[0m\u001b[0mself\u001b[0m\u001b[1;33m,\u001b[0m \u001b[0marg\u001b[0m\u001b[1;33m)\u001b[0m\u001b[1;33m:\u001b[0m\u001b[1;33m\u001b[0m\u001b[0m\n\u001b[1;32m---> 60\u001b[1;33m         \u001b[0mself\u001b[0m\u001b[1;33m.\u001b[0m\u001b[0mcursor\u001b[0m\u001b[1;33m.\u001b[0m\u001b[0mexecute\u001b[0m\u001b[1;33m(\u001b[0m\u001b[0marg\u001b[0m\u001b[1;33m)\u001b[0m\u001b[1;33m\u001b[0m\u001b[0m\n\u001b[0m\u001b[0;32m     61\u001b[0m \u001b[1;33m\u001b[0m\u001b[0m\n\u001b[0;32m     62\u001b[0m     \u001b[1;32mdef\u001b[0m \u001b[0msetQry\u001b[0m\u001b[1;33m(\u001b[0m\u001b[0mself\u001b[0m\u001b[1;33m,\u001b[0m \u001b[0marg\u001b[0m\u001b[1;33m)\u001b[0m\u001b[1;33m:\u001b[0m\u001b[1;33m\u001b[0m\u001b[0m\n",
      "\u001b[1;31mOperationalError\u001b[0m: no such table: rank"
     ]
    }
   ],
   "source": [
    "dao.drop()"
   ]
  },
  {
   "cell_type": "code",
   "execution_count": 149,
   "metadata": {
    "collapsed": true
   },
   "outputs": [],
   "source": [
    "cond = \"o macaco = bola\""
   ]
  },
  {
   "cell_type": "code",
   "execution_count": 150,
   "metadata": {
    "collapsed": false
   },
   "outputs": [
    {
     "name": "stdout",
     "output_type": "stream",
     "text": [
      "GROUP BY o o macaco = bola\n"
     ]
    }
   ],
   "source": [
    "terms = cond.split()\n",
    "cond = \"GROUP BY \"+terms[0]+\" \"+cond\n",
    "print cond"
   ]
  },
  {
   "cell_type": "code",
   "execution_count": 550,
   "metadata": {
    "collapsed": false
   },
   "outputs": [
    {
     "data": {
      "text/plain": [
       "'bolaNone'"
      ]
     },
     "execution_count": 550,
     "metadata": {},
     "output_type": "execute_result"
    }
   ],
   "source": [
    "\"bola\"+str(None)"
   ]
  },
  {
   "cell_type": "code",
   "execution_count": 31,
   "metadata": {
    "collapsed": true
   },
   "outputs": [],
   "source": [
    "obj = np.empty((0,0))"
   ]
  },
  {
   "cell_type": "code",
   "execution_count": 41,
   "metadata": {
    "collapsed": false
   },
   "outputs": [
    {
     "data": {
      "text/plain": [
       "array([ 3.,  2.])"
      ]
     },
     "execution_count": 41,
     "metadata": {},
     "output_type": "execute_result"
    }
   ],
   "source": [
    "np.append([3,2],obj)"
   ]
  },
  {
   "cell_type": "code",
   "execution_count": 60,
   "metadata": {
    "collapsed": false
   },
   "outputs": [
    {
     "name": "stdout",
     "output_type": "stream",
     "text": [
      "0\n",
      "1\n",
      "2\n"
     ]
    }
   ],
   "source": [
    "for i in range(3):\n",
    "    print i"
   ]
  },
  {
   "cell_type": "code",
   "execution_count": null,
   "metadata": {
    "collapsed": true
   },
   "outputs": [],
   "source": []
  }
 ],
 "metadata": {
  "kernelspec": {
   "display_name": "Python 2",
   "language": "python",
   "name": "python2"
  },
  "language_info": {
   "codemirror_mode": {
    "name": "ipython",
    "version": 2
   },
   "file_extension": ".py",
   "mimetype": "text/x-python",
   "name": "python",
   "nbconvert_exporter": "python",
   "pygments_lexer": "ipython2",
   "version": "2.7.6"
  }
 },
 "nbformat": 4,
 "nbformat_minor": 0
}
